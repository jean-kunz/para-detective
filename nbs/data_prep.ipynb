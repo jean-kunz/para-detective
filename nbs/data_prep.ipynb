{
 "cells": [
  {
   "cell_type": "code",
   "execution_count": null,
   "metadata": {},
   "outputs": [],
   "source": [
    "#| default_exp data_prep\n",
    "%load_ext autoreload\n",
    "%autoreload 2"
   ]
  },
  {
   "cell_type": "code",
   "execution_count": null,
   "metadata": {},
   "outputs": [],
   "source": [
    "# | exporti\n",
    "import os\n",
    "import pandas as pd\n",
    "import joblib\n",
    "import yaml\n",
    "from typing import Union, Final\n",
    "import numpy as np\n",
    "from pathlib import Path\n",
    "from dataclasses import dataclass"
   ]
  },
  {
   "cell_type": "code",
   "execution_count": null,
   "metadata": {},
   "outputs": [],
   "source": [
    "# | export\n",
    "\n",
    "LINE_FEAT_NAMES: Final[list[str]] = [\n",
    "    \"row\",\n",
    "    \"txt_len\",\n",
    "    \"end_with_end_sent\",\n",
    "    \"end_with_hyphen\",\n",
    "    \"start_with_upper\",\n",
    "    \"start_with_bullet\",\n",
    "    \"line_txt\",\n",
    "    \"diff_len_prev\",\n",
    "    \"diff_max_len\",\n",
    "]\n",
    "\n",
    "\n",
    "def create_line_features(lines: list[str]) -> pd.DataFrame:\n",
    "    \"\"\"compute features for each lines in a group (doc) and return a dataframe with them\n",
    "\n",
    "    Arguments:\n",
    "        lines -- list of lines used to compute features\n",
    "\n",
    "    Returns:\n",
    "        the dataframe with the features.\n",
    "    \"\"\"\n",
    "    line_lengths = [len(l) for l in lines]\n",
    "    line_rows = [i for i, _ in enumerate(lines)]\n",
    "    are_end_of_sent = [l.strip()[-1] in [\".\", \"?\", \"!\"] if len(l.strip()) > 0 else False for l in lines]\n",
    "    are_end_hyphen = [l.strip()[-1] in [\"-\"] if len(l.strip()) > 0 else False for l in lines]\n",
    "    # erreur car élimine des lignes. ils doit avoir une valeur else\n",
    "    are_start_upper = [l.strip()[0].isupper() if len(l.strip()) > 0 else False for l in lines]\n",
    "    are_start_bullet = [l.strip().startswith((\"-\", \"•\", \"o \")) if len(l.strip()) > 0 else False for l in lines]\n",
    "\n",
    "    assert (\n",
    "        len(line_lengths)\n",
    "        == len(line_rows)\n",
    "        == len(are_end_of_sent)\n",
    "        == len(are_end_hyphen)\n",
    "        == len(are_start_upper)\n",
    "        == len(are_start_bullet)\n",
    "    ), \"all lines must be processed.\"\n",
    "\n",
    "    lines_data = [\n",
    "        (r, l, e, h, u, b, t)\n",
    "        for r, t, l, e, h, u, b in zip(\n",
    "            line_rows,\n",
    "            lines,\n",
    "            line_lengths,\n",
    "            are_end_of_sent,\n",
    "            are_end_hyphen,\n",
    "            are_start_upper,\n",
    "            are_start_bullet,\n",
    "        )\n",
    "    ]\n",
    "    lines_df = pd.DataFrame(\n",
    "        lines_data,\n",
    "        columns=[\n",
    "            \"row\",\n",
    "            \"txt_len\",\n",
    "            \"end_with_end_sent\",\n",
    "            \"end_with_hyphen\",\n",
    "            \"start_with_upper\",\n",
    "            \"start_with_bullet\",\n",
    "            \"line_txt\",\n",
    "        ],\n",
    "    )\n",
    "    lines_df[\"diff_len_prev\"] = lines_df.txt_len.diff()\n",
    "    lines_df.diff_len_prev = lines_df.diff_len_prev.fillna(lines_df.txt_len)\n",
    "    lines_df[\"diff_max_len\"] = lines_df.txt_len.max() - lines_df.txt_len\n",
    "\n",
    "    return lines_df"
   ]
  },
  {
   "cell_type": "code",
   "execution_count": null,
   "metadata": {},
   "outputs": [],
   "source": [
    "# | export\n",
    "def prepare_data_from_doc(file_path: Union[str, Path]) -> tuple[pd.DataFrame, list[str]]:\n",
    "    with open(file_path, \"r\") as f:\n",
    "        lines: list[str] = f.read().split(\"\\n\")\n",
    "        line_feats_df = create_line_features(lines)\n",
    "    return line_feats_df, lines"
   ]
  },
  {
   "cell_type": "code",
   "execution_count": null,
   "metadata": {},
   "outputs": [],
   "source": [
    "prep_df, lines = prepare_data_from_doc(Path(\"../test_data/doc_a.txt\"))\n",
    "assert all([c in LINE_FEAT_NAMES for c in prep_df.columns.tolist()])\n"
   ]
  },
  {
   "cell_type": "code",
   "execution_count": null,
   "metadata": {},
   "outputs": [],
   "source": [
    "import nbdev\n",
    "\n",
    "nbdev.nbdev_export(\"data_prep.ipynb\")\n"
   ]
  },
  {
   "cell_type": "code",
   "execution_count": null,
   "metadata": {},
   "outputs": [],
   "source": []
  }
 ],
 "metadata": {
  "kernelspec": {
   "display_name": "python3",
   "language": "python",
   "name": "python3"
  }
 },
 "nbformat": 4,
 "nbformat_minor": 2
}
