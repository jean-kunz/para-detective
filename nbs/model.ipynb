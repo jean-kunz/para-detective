{
 "cells": [
  {
   "cell_type": "code",
   "execution_count": null,
   "metadata": {},
   "outputs": [],
   "source": [
    "# | default_exp model\n",
    "%load_ext autoreload\n",
    "%autoreload 2"
   ]
  },
  {
   "cell_type": "code",
   "execution_count": null,
   "metadata": {},
   "outputs": [],
   "source": [
    "# | export\n",
    "import os\n",
    "from dataclasses import dataclass\n",
    "from pathlib import Path\n",
    "from typing import Final, Union\n",
    "\n",
    "import joblib\n",
    "import numpy as np\n",
    "import pandas as pd\n",
    "import yaml\n",
    "from sklearn.base import BaseEstimator, ClassifierMixin\n",
    "from sklearn.ensemble import GradientBoostingClassifier, RandomForestClassifier\n",
    "from sklearn.metrics import accuracy_score, confusion_matrix, f1_score, precision_score, recall_score\n",
    "from sklearn.model_selection import cross_val_score\n",
    "\n",
    "from paragraph_detective.data_prep import create_line_features, prepare_data_from_doc"
   ]
  },
  {
   "cell_type": "code",
   "execution_count": null,
   "metadata": {},
   "outputs": [],
   "source": [
    "# | export\n",
    "MODEL_FILE_NAME: Final[str] = \"clf.joblib\"\n",
    "X_COLS: Final[list[str]] = [\n",
    "    \"txt_len\",\n",
    "    \"end_with_end_sent\",\n",
    "    \"end_with_hyphen\",\n",
    "    \"start_with_upper\",\n",
    "    \"start_with_bullet\",\n",
    "    \"diff_len_prev\",\n",
    "    \"diff_max_len\",\n",
    "]\n",
    "\n",
    "\n",
    "def df_to_x_y(train_df) -> tuple[np.ndarray, np.ndarray]:\n",
    "    y_col = \"new_paragraph\"\n",
    "    x = train_df[X_COLS]\n",
    "    y = train_df[y_col]\n",
    "\n",
    "    return x, y\n",
    "\n",
    "\n",
    "def get_model() -> BaseEstimator:\n",
    "    model_path = Path(\"../model\") / MODEL_FILE_NAME\n",
    "    clf = joblib.load(model_path)\n",
    "    return clf"
   ]
  },
  {
   "cell_type": "code",
   "execution_count": null,
   "metadata": {},
   "outputs": [],
   "source": [
    "# | export\n",
    "def clean_doc_paragraphs(clf: BaseEstimator, doc_path: Union[str, Path]) -> str:\n",
    "    lines_df, lines = prepare_data_from_doc(doc_path)\n",
    "    x = lines_df[X_COLS]\n",
    "    preds = clf.predict(x).tolist()\n",
    "    txt = \"\"\n",
    "    for l, pred in zip(lines, preds):\n",
    "        if len(l) > 0:\n",
    "            if l[-1] == \"-\":\n",
    "                l = l[:-1]\n",
    "\n",
    "        # 1 is for new paragraph.\n",
    "        if pred == 1:\n",
    "            txt += \"\\n\" + l\n",
    "        else:\n",
    "            txt += l\n",
    "    return txt"
   ]
  },
  {
   "cell_type": "code",
   "execution_count": null,
   "metadata": {},
   "outputs": [],
   "source": [
    "clf = get_model()\n",
    "file_path = Path(\"../test_data/doc_a.txt\")\n",
    "doc_txt = clean_doc_paragraphs(clf, file_path)\n",
    "print(doc_txt)\n",
    "\n",
    "# TODO: there should be a \\n  after Title"
   ]
  },
  {
   "cell_type": "code",
   "execution_count": null,
   "metadata": {},
   "outputs": [],
   "source": [
    "with open(file_path) as f:\n",
    "    raw_content = f.read()\n",
    "\n",
    "print(raw_content)"
   ]
  },
  {
   "cell_type": "code",
   "execution_count": null,
   "metadata": {},
   "outputs": [],
   "source": []
  },
  {
   "cell_type": "code",
   "execution_count": null,
   "metadata": {},
   "outputs": [],
   "source": [
    "import nbdev\n",
    "\n",
    "nbdev.nbdev_export(\"model.ipynb\")"
   ]
  },
  {
   "cell_type": "code",
   "execution_count": null,
   "metadata": {},
   "outputs": [],
   "source": []
  },
  {
   "cell_type": "code",
   "execution_count": null,
   "metadata": {},
   "outputs": [],
   "source": []
  }
 ],
 "metadata": {
  "kernelspec": {
   "display_name": "python3",
   "language": "python",
   "name": "python3"
  }
 },
 "nbformat": 4,
 "nbformat_minor": 2
}
